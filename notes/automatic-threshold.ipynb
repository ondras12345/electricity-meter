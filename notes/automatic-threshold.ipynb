{
 "cells": [
  {
   "cell_type": "code",
   "execution_count": 1,
   "id": "e28b501e-360a-4ef0-beea-5e77eee2fed8",
   "metadata": {},
   "outputs": [],
   "source": [
    "pkg load signal\n",
    "clear all\n",
    "close all"
   ]
  },
  {
   "cell_type": "code",
   "execution_count": 2,
   "id": "beee574a-bcd8-4bbb-8f79-7541900ddf72",
   "metadata": {},
   "outputs": [],
   "source": [
    "fs = 1000;  % sampling rate, Hz\n",
    "% debounce time is 8ms\n",
    "\n",
    "t = 0:1/fs:80;"
   ]
  },
  {
   "cell_type": "code",
   "execution_count": 3,
   "id": "4c4b17fc-f94e-44df-8118-1ecd543cb14a",
   "metadata": {},
   "outputs": [],
   "source": [
    "function [signal] = square_signal(f, A, A0, t)\n",
    "    signal = uint8(A0+A*square(2*pi*f*t) + 3*sin(2*pi*100*f*t));\n",
    "    %signal = uint8(A0+A*sin(2*pi*f*t));\n",
    "end"
   ]
  },
  {
   "cell_type": "code",
   "execution_count": 4,
   "id": "19510266-50a2-4aca-8c17-0ee0a0615818",
   "metadata": {},
   "outputs": [],
   "source": [
    "%% generate the signal\n",
    "signal = zeros(1, size(t, 2));\n",
    "\n",
    "signal(1:round(end/3)) = square_signal(0.1389, 12, 128, t(1:round(end/3)));  % 50W\n",
    "signal(round(end/3):round(end/2)) = square_signal(50, 16, 200, t(round(end/3):round(end/2)));  % 18kW\n",
    "signal(round(end/2):end-20) = square_signal(4, 16, 80, t(round(end/2):end-20));\n",
    "signal(end-20:end) = 80;"
   ]
  },
  {
   "cell_type": "code",
   "execution_count": 5,
   "id": "4b6fec18-773d-4289-ae28-4715d5a92744",
   "metadata": {},
   "outputs": [],
   "source": [
    "minmax_samples = 4 * fs;  % 4 seconds\n",
    "signal_max = movmax(signal, minmax_samples);\n",
    "signal_min = movmin(signal, minmax_samples);\n",
    "signal_thres = (signal_max + signal_min) / 2;"
   ]
  },
  {
   "cell_type": "code",
   "execution_count": 6,
   "id": "523c3b7d-6d05-4219-a640-81b5c7f91250",
   "metadata": {
    "editable": true,
    "slideshow": {
     "slide_type": ""
    },
    "tags": []
   },
   "outputs": [],
   "source": [
    "signal_emax = zeros(1, size(signal, 2));\n",
    "signal_emin = zeros(1, size(signal, 2));\n",
    "% start in invalid state\n",
    "signal_emax(1) = 0;\n",
    "signal_emin(1) = 255;\n",
    "\n",
    "for i = 2:size(signal,2)\n",
    "    %signal_emax(i) = signal_emax(i-1) * 0.99;\n",
    "    signal_emax(i) = signal_emax(i-1) - 1/256;\n",
    "    signal_emin(i) = signal_emin(i-1) + 1/256;\n",
    "    if signal(i) > signal_emax(i)\n",
    "        signal_emax(i) = signal(i);\n",
    "    end\n",
    "    if signal(i) < signal_emin(i)\n",
    "        signal_emin(i) = signal(i);\n",
    "    end\n",
    "end\n",
    "\n",
    "signal_ethres = (signal_emax + signal_emin) / 2;"
   ]
  },
  {
   "cell_type": "code",
   "execution_count": 7,
   "id": "11669601-6333-4822-a2da-24d740539f78",
   "metadata": {
    "editable": true,
    "slideshow": {
     "slide_type": ""
    },
    "tags": []
   },
   "outputs": [
    {
     "data": {
      "image/png": "[encoded data removed]",
      "text/plain": [
       "<IPython.core.display.Image object>"
      ]
     },
     "metadata": {},
     "output_type": "display_data"
    }
   ],
   "source": [
    "%%plot -f svg\n",
    "%%plot gnuplot\n",
    "figure\n",
    "subplot(2,1,1)\n",
    "hold on\n",
    "%xlim([10 20])\n",
    "plot(t, signal)\n",
    "%plot(t, signal_max)\n",
    "%plot(t, signal_min)\n",
    "plot(t, 50+(signal > signal_ethres)*190)\n",
    "plot(t, signal_thres)\n",
    "plot(t, signal_emax)\n",
    "plot(t, signal_emin)\n",
    "plot(t, signal_ethres)\n",
    "plot(t, 50+((signal_emax - signal_emin) > 8)*194)\n",
    "legend('signal', '>', 'threshold', 'emax', 'emin', 'ethres', 'valid?')\n",
    "ylim([0 255])\n",
    "\n",
    "subplot(2,1,2)\n",
    "hold on\n",
    "ylim([0 255])\n",
    "xlim([38 39])\n",
    "plot(t, signal)\n",
    "plot(t, 50+(signal > signal_ethres)*190)\n",
    "legend('signal', '>')\n"
   ]
  },
  {
   "cell_type": "code",
   "execution_count": null,
   "id": "7704d085-f6ec-435f-be79-6a31dc61cf9f",
   "metadata": {
    "editable": true,
    "slideshow": {
     "slide_type": ""
    },
    "tags": []
   },
   "outputs": [],
   "source": []
  }
 ],
 "metadata": {
  "kernelspec": {
   "display_name": "Octave",
   "language": "octave",
   "name": "octave"
  },
  "language_info": {
   "file_extension": ".m",
   "help_links": [
    {
     "text": "GNU Octave",
     "url": "https://www.gnu.org/software/octave/support.html"
    },
    {
     "text": "Octave Kernel",
     "url": "https://github.com/Calysto/octave_kernel"
    },
    {
     "text": "MetaKernel Magics",
     "url": "https://metakernel.readthedocs.io/en/latest/source/README.html"
    }
   ],
   "mimetype": "text/x-octave",
   "name": "octave",
   "version": "6.4.0"
  }
 },
 "nbformat": 4,
 "nbformat_minor": 5
}
