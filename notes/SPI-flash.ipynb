{
 "cells": [
  {
   "cell_type": "markdown",
   "id": "e36d9616-4ddf-4234-83c4-74fd13f6f955",
   "metadata": {
    "editable": true,
    "slideshow": {
     "slide_type": ""
    },
    "tags": []
   },
   "source": [
    "# Would SPI flash be able to store the data?\n",
    "## Requirements\n",
    "- able to store 6 months of data\n",
    "- ring buffer (deletest oldest data first)\n",
    "- one data point per minute"
   ]
  },
  {
   "cell_type": "code",
   "execution_count": 1,
   "id": "f8bfdf1b-9e09-4f3e-b1c4-9b46cdee93f1",
   "metadata": {},
   "outputs": [],
   "source": [
    "clc\n",
    "clear all\n",
    "close all\n",
    "%format short eng"
   ]
  },
  {
   "cell_type": "code",
   "execution_count": 2,
   "id": "ea6e41ca-e0b2-4ab9-b63b-943380f77fe9",
   "metadata": {},
   "outputs": [
    {
     "name": "stdout",
     "output_type": "stream",
     "text": [
      "max_power = 13800\n",
      "pulses_per_kWh = 10000\n",
      "max_pulses_per_minute = 2300\n",
      "required_bits = 12\n"
     ]
    }
   ],
   "source": [
    "max_power = 3*230*20\n",
    "pulses_per_kWh = 10000\n",
    "max_pulses_per_minute = max_power * 1/60 / 1000 * pulses_per_kWh\n",
    "required_bits = ceil(log2(max_pulses_per_minute))"
   ]
  },
  {
   "cell_type": "markdown",
   "id": "47eb4888-f951-4886-bb64-c7800825d240",
   "metadata": {},
   "source": [
    "So a `uint16_t` should be sufficient if we only store the increment instead of the total number of pulses since restart."
   ]
  },
  {
   "cell_type": "code",
   "execution_count": 5,
   "id": "b31d73ca-9abb-4152-bf2f-380fb865da14",
   "metadata": {
    "editable": true,
    "slideshow": {
     "slide_type": ""
    },
    "tags": []
   },
   "outputs": [
    {
     "name": "stdout",
     "output_type": "stream",
     "text": [
      "samples_per_hour = 60\n",
      "required_storage_hours = 4320\n",
      "required_storage_datapoints = 259200\n",
      "sizeof_timestamp = 4\n",
      "sizeof_pulse_count = 2\n",
      "sizeof_temperature = 2\n",
      "sizeof_datapoint = 8\n",
      "min_memory_size = 2073600\n",
      "min_memory_size_bits = 1.6589e+07\n",
      "min_memory_size_Mbits = 15.820\n"
     ]
    }
   ],
   "source": [
    "samples_per_hour = 60\n",
    "required_storage_hours = 24*30*6\n",
    "required_storage_datapoints = required_storage_hours*samples_per_hour\n",
    "sizeof_timestamp = 4  % uint32_t, seconds since 2000-01-01\n",
    "sizeof_pulse_count = 2\n",
    "sizeof_temperature = 2\n",
    "sizeof_datapoint = sizeof_timestamp + sizeof_pulse_count + sizeof_temperature\n",
    "min_memory_size = sizeof_datapoint * required_storage_datapoints\n",
    "min_memory_size_bits = min_memory_size * 8\n",
    "min_memory_size_Mbits = min_memory_size_bits / (1024^2)"
   ]
  },
  {
   "cell_type": "markdown",
   "id": "9f6a4393-10cb-4d22-83fa-736f8db8935c",
   "metadata": {},
   "source": [
    "That seems reasonable. I can easily get a 32Mbit (64Mbit, 256Mbit, ...) SPI flash."
   ]
  },
  {
   "cell_type": "markdown",
   "id": "abf419e2-fd9b-40c2-bd83-60e65ac6d10e",
   "metadata": {},
   "source": [
    "`0xFFFF` is not a valid pulse count, so we can use it to detect where data ends."
   ]
  },
  {
   "cell_type": "code",
   "execution_count": null,
   "id": "e434fe3a-bce3-4050-932f-7cdf1663e993",
   "metadata": {},
   "outputs": [],
   "source": []
  }
 ],
 "metadata": {
  "kernelspec": {
   "display_name": "Octave",
   "language": "octave",
   "name": "octave"
  },
  "language_info": {
   "file_extension": ".m",
   "help_links": [
    {
     "text": "GNU Octave",
     "url": "https://www.gnu.org/software/octave/support.html"
    },
    {
     "text": "Octave Kernel",
     "url": "https://github.com/Calysto/octave_kernel"
    },
    {
     "text": "MetaKernel Magics",
     "url": "https://metakernel.readthedocs.io/en/latest/source/README.html"
    }
   ],
   "mimetype": "text/x-octave",
   "name": "octave",
   "version": "6.4.0"
  }
 },
 "nbformat": 4,
 "nbformat_minor": 5
}
